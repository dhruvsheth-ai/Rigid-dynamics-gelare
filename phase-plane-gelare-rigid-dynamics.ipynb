{
  "nbformat": 4,
  "nbformat_minor": 0,
  "metadata": {
    "colab": {
      "provenance": [],
      "private_outputs": true,
      "toc_visible": true
    },
    "kernelspec": {
      "name": "python3",
      "display_name": "Python 3"
    },
    "language_info": {
      "name": "python"
    }
  },
  "cells": [
    {
      "cell_type": "markdown",
      "source": [
        "# Introduction to Phase Plane\n",
        "\n",
        "This page is an interactive tutorial on phase plane analysis for dynamical systems."
      ],
      "metadata": {
        "id": "OfiozzVs1Upg"
      }
    },
    {
      "cell_type": "markdown",
      "source": [
        "## Tutorial content\n",
        "\n",
        "1.   What is a phase plane?\n",
        "2.   Exemple: a floating mass\n",
        "3.   Exemple: a pendulum\n",
        "4.   Exemple: your custom dynamic system!\n",
        "5.   What about closed-loop systems?\n",
        "6.   Exemple: a floating mass with a linear controller\n",
        "\n",
        "\n",
        "\n",
        "\n",
        "\n",
        "\n"
      ],
      "metadata": {
        "id": "UFUZaXXQ2fMq"
      }
    },
    {
      "cell_type": "markdown",
      "metadata": {
        "id": "eOFBWst7WmCb"
      },
      "source": [
        "## Importing Pyro\n",
        "\n",
        "We will use a custom toolbox called pyro.\n"
      ]
    },
    {
      "cell_type": "code",
      "metadata": {
        "id": "tH-1a9VJGXi8"
      },
      "source": [
        "!git clone https://github.com/SherbyRobotics/pyro\n",
        "import sys\n",
        "sys.path.append('/content/pyro')\n",
        "import pyro"
      ],
      "execution_count": null,
      "outputs": []
    },
    {
      "cell_type": "markdown",
      "source": [
        "\n",
        "Here we import other basic python tools:\n",
        "\n",
        "*   Numpy: the python library for linear algebra, on top of which pyro is built. \n",
        "*   Display: that is needed to show animation in the colab environment. If pyro is used locally then this is not needed.\n",
        "*   Inspect: that we will use here only for printing source code in for this tutorial\n",
        "\n"
      ],
      "metadata": {
        "id": "kr5SoAHNhnZ7"
      }
    },
    {
      "cell_type": "code",
      "source": [
        "import numpy as np\n",
        "from IPython import display\n",
        "import inspect"
      ],
      "metadata": {
        "id": "WMPkS-g9hjNl"
      },
      "execution_count": null,
      "outputs": []
    },
    {
      "cell_type": "markdown",
      "source": [
        "# What is a phase plane? (or phase portrait)\n",
        "\n"
      ],
      "metadata": {
        "id": "bD1iWQxi23SD"
      }
    },
    {
      "cell_type": "code",
      "source": [
        "display.IFrame(\"https://www.youtube.com/embed/QGPVxZrZq44\",800,600)"
      ],
      "metadata": {
        "id": "wRJ2LIVr29XP"
      },
      "execution_count": null,
      "outputs": []
    },
    {
      "cell_type": "markdown",
      "source": [
        "# A Simple Floating Mass"
      ],
      "metadata": {
        "id": "qQo1ByFA2Vd5"
      }
    },
    {
      "cell_type": "markdown",
      "source": [
        "Here we load a class that already includes the dynamic equation:\n",
        "\n",
        "$m \\ddot{q} + b \\dot{q} = f $\n",
        "\n",
        "i.e. a mass with some linear damping $b$ and an external force input $f$."
      ],
      "metadata": {
        "id": "ECNUNFpJ4A7f"
      }
    },
    {
      "cell_type": "code",
      "source": [
        "from pyro.dynamic import massspringdamper\n",
        "\n",
        "m = 1 # Mass parameter\n",
        "b = 0 # Damping parameter\n",
        "\n",
        "sys = massspringdamper.FloatingSingleMass( m , b )"
      ],
      "metadata": {
        "id": "gpd_hkrP3z4k"
      },
      "execution_count": null,
      "outputs": []
    },
    {
      "cell_type": "markdown",
      "source": [
        "Where the state vector is defined as \n",
        "\n",
        "$x = \\begin{bmatrix} q \\\\ \\dot{q} \\end{bmatrix}$"
      ],
      "metadata": {
        "id": "rAx6r_pz4j5D"
      }
    },
    {
      "cell_type": "code",
      "source": [
        "print(sys.state_label)\n",
        "print(sys.state_units)"
      ],
      "metadata": {
        "id": "JJOWFeNh4jEa"
      },
      "execution_count": null,
      "outputs": []
    },
    {
      "cell_type": "markdown",
      "source": [
        "The toolbox as built-in functions to plot phase planes for dynamic system objects:"
      ],
      "metadata": {
        "id": "lAdRNI8b5sLP"
      }
    },
    {
      "cell_type": "code",
      "source": [
        "sys.plot_phase_plane()"
      ],
      "metadata": {
        "id": "pVuZXYS051b7"
      },
      "execution_count": null,
      "outputs": []
    },
    {
      "cell_type": "markdown",
      "source": [
        "All those blue arrow represents how the system states would evolve in time. If we start a trajectory at a given point the system states would \"follow\" the arrows.\n",
        "\n",
        "Lets simulate a specific trajectory:"
      ],
      "metadata": {
        "id": "4BrzSty86EiN"
      }
    },
    {
      "cell_type": "code",
      "source": [
        "sys.x0 = np.array([0,5])             # Initial conditions\n",
        "sys.compute_trajectory( tf = 1 )     # Simulate for 1 sec\n",
        "sys.plot_phase_plane_trajectory()    # Plot the trajectory superposed on the phase plane"
      ],
      "metadata": {
        "id": "5PkAByN06DEV"
      },
      "execution_count": null,
      "outputs": []
    },
    {
      "cell_type": "markdown",
      "source": [
        "The black dot is the initial state, the red x is the final states and the blue line is the path. Here we see that for a single mass with no damping, if we start at a position $q=0$ and velocity $\\dot{q}=5$ then the system would continue with constant velocity (y-axis on the phase plane) but the position would increase continuously (x-axis on the phase plane)."
      ],
      "metadata": {
        "id": "Kg3Iv_OR6tcd"
      }
    },
    {
      "cell_type": "markdown",
      "source": [
        "## Now with damping\n",
        "\n",
        "Here lets see how adding damping change the behavior:\n",
        "\n"
      ],
      "metadata": {
        "id": "NCJRDWzo7N1n"
      }
    },
    {
      "cell_type": "code",
      "source": [
        "m = 1   # Mass parameter\n",
        "b = 0.5 # Damping parameter\n",
        "sys = massspringdamper.FloatingSingleMass( m , b )\n",
        "sys.x0 = np.array([0,5])             # Initial conditions\n",
        "sys.compute_trajectory( tf = 1 )     # Simulate for 1 sec\n",
        "sys.plot_phase_plane_trajectory()    # Plot the trajectory superposed on the phase plane"
      ],
      "metadata": {
        "id": "XTkyoo-Z7YH1"
      },
      "execution_count": null,
      "outputs": []
    },
    {
      "cell_type": "markdown",
      "source": [
        "Here we see that now velocity naturally decrease (arrows point toward the horizontal $\\dot{q}=0$ line."
      ],
      "metadata": {
        "id": "MK6IiGdC7hl1"
      }
    },
    {
      "cell_type": "markdown",
      "source": [
        "## Now with a constant force (zero damping againg)\n"
      ],
      "metadata": {
        "id": "X-3DxMJe7veo"
      }
    },
    {
      "cell_type": "code",
      "source": [
        "m = 1   # Mass parameter\n",
        "b = 0   # Damping parameter\n",
        "sys = massspringdamper.FloatingSingleMass( m , b )\n",
        "sys.ubar[0]  =  -5.0                 # A constant default force always applied on the mass\n",
        "sys.x0 = np.array([0,5])             # Initial conditions\n",
        "sys.compute_trajectory( tf = 3 )     # Simulate for 1 sec\n",
        "sys.plot_phase_plane_trajectory()    # Plot the trajectory superposed on the phase plane"
      ],
      "metadata": {
        "id": "sbzAFhY473tc"
      },
      "execution_count": null,
      "outputs": []
    },
    {
      "cell_type": "markdown",
      "source": [
        "Here we see that the behavior is caracterised by arcs (constant acceleration trajectories). To make more sense of the simulated trajectory lets animate it:"
      ],
      "metadata": {
        "id": "trbcm9eK8JFC"
      }
    },
    {
      "cell_type": "code",
      "source": [
        "ani  = sys.generate_simulation_html_video()\n",
        "html = display.HTML( ani )\n",
        "display.display(html)"
      ],
      "metadata": {
        "id": "RSOBbusf8Z2G"
      },
      "execution_count": null,
      "outputs": []
    },
    {
      "cell_type": "markdown",
      "source": [
        "Here we see the for this trajectory the constant force first slow down the mass until a rest point put continue accelerating it in the negative direction."
      ],
      "metadata": {
        "id": "uqRQgpvaM8dM"
      }
    },
    {
      "cell_type": "markdown",
      "source": [
        " Now I recommend for you to go back and play with the parameters and initial conditions to check how it affect the behavior."
      ],
      "metadata": {
        "id": "xR-uO3Ld8r_z"
      }
    },
    {
      "cell_type": "markdown",
      "source": [
        "# The Single Pendulum\n",
        "\n",
        "The floating mass is caracterized by a simple linear behavior. Phase-plane are particulary interesting for analysing non-linear system. Let's analyse the dynamic of a pendulum."
      ],
      "metadata": {
        "id": "iyer2Uki8vKn"
      }
    },
    {
      "cell_type": "markdown",
      "source": [
        "Here load a pendulum class that implement the dynamic:\n",
        "\n",
        "$ml^2 \\ddot{q} + b \\dot{q}  + m g l \\sin q = \\tau$\n",
        "\n",
        "and then use the toolbox built-in function to plot the phase plane:"
      ],
      "metadata": {
        "id": "a6NjVDjnDE97"
      }
    },
    {
      "cell_type": "code",
      "source": [
        "from pyro.dynamic import pendulum   # Here we load pyro library of pedulum system\n",
        "sys = pendulum.SinglePendulum()     # Here we create an instance of the Single Pendulum\n",
        "sys.plot_phase_plane()"
      ],
      "metadata": {
        "id": "JkhwvY5e9WcJ"
      },
      "execution_count": null,
      "outputs": []
    },
    {
      "cell_type": "markdown",
      "source": [
        "Now lets analyse this nice vector field with specific trajectories."
      ],
      "metadata": {
        "id": "9GXYzWp4-QBr"
      }
    },
    {
      "cell_type": "markdown",
      "source": [
        "First starting with a high initial velocity, the pendulum will loop arround, slowing down at the top and accelerating arround the bottom position."
      ],
      "metadata": {
        "id": "FeT19scnNx34"
      }
    },
    {
      "cell_type": "code",
      "source": [
        "sys.x0 = np.array([-6.28,5])        # Initial conditions\n",
        "sys.compute_trajectory( tf = 3 )\n",
        "sys.plot_phase_plane_trajectory()"
      ],
      "metadata": {
        "id": "QBQX7CTa-QP-"
      },
      "execution_count": null,
      "outputs": []
    },
    {
      "cell_type": "code",
      "source": [
        "# This generate an animation of the trajectory\n",
        "ani  = sys.generate_simulation_html_video()\n",
        "html = display.HTML( ani )\n",
        "display.display(html)"
      ],
      "metadata": {
        "id": "wTeXCMI6-mzm"
      },
      "execution_count": null,
      "outputs": []
    },
    {
      "cell_type": "markdown",
      "source": [
        "Now if we start with a small initial velocity, the pendulum will only oscillate arround the bottom position."
      ],
      "metadata": {
        "id": "vHI6xSVZOBz6"
      }
    },
    {
      "cell_type": "code",
      "source": [
        "sys.x0 = np.array([0,1])\n",
        "sys.compute_trajectory( tf = 5 )\n",
        "sys.plot_phase_plane_trajectory()"
      ],
      "metadata": {
        "id": "X0GSfAmT-0sz"
      },
      "execution_count": null,
      "outputs": []
    },
    {
      "cell_type": "code",
      "source": [
        "# This generate an animation of the trajectory\n",
        "ani  = sys.generate_simulation_html_video()\n",
        "html = display.HTML( ani )\n",
        "display.display(html)"
      ],
      "metadata": {
        "id": "Fxsdg7PD-cKu"
      },
      "execution_count": null,
      "outputs": []
    },
    {
      "cell_type": "markdown",
      "source": [
        "## Now with damping"
      ],
      "metadata": {
        "id": "y_zOcc12_sXR"
      }
    },
    {
      "cell_type": "markdown",
      "source": [
        "Now lets try again with damping!"
      ],
      "metadata": {
        "id": "gzG9pv1c-_JE"
      }
    },
    {
      "cell_type": "code",
      "source": [
        "sys.d1 = 1. # damping parameter\n",
        "\n",
        "sys.x0 = np.array([0,5])\n",
        "sys.compute_trajectory( tf = 10 )\n",
        "sys.plot_phase_plane_trajectory()"
      ],
      "metadata": {
        "id": "ZbX3Q-we--nw"
      },
      "execution_count": null,
      "outputs": []
    },
    {
      "cell_type": "markdown",
      "source": [
        "We see that the momentum quickly dissipate and the pendulum will converge eventually toward the bottom stable position."
      ],
      "metadata": {
        "id": "5KIm5vFTOTLR"
      }
    },
    {
      "cell_type": "code",
      "source": [
        "# This generate an animation of the trajectory\n",
        "ani  = sys.generate_simulation_html_video()\n",
        "html = display.HTML( ani )\n",
        "display.display(html)"
      ],
      "metadata": {
        "id": "muSvCvVR_PrV"
      },
      "execution_count": null,
      "outputs": []
    },
    {
      "cell_type": "markdown",
      "source": [
        "# A Phase Plane for A Custom Dynamic System\n",
        "\n",
        "Now we played with dynamic systems that were already coded in the toolbox. Here lets use the toolbox to plot a phase plane for your own custom dynamic system."
      ],
      "metadata": {
        "id": "0QRpTly8_wsf"
      }
    },
    {
      "cell_type": "markdown",
      "source": [
        "First a \"Dynamic System Class\" must be defined. Bellow, we define the minimum necessary for using the phase plane tool: labels and the dynamic function:\n",
        "\n",
        "$\\dot{x} = f(x,u,t)$\n",
        "\n",
        "where $x$ is the state vector, $u$ is an input vector and $t$ is time."
      ],
      "metadata": {
        "id": "tEy5ROb8AACH"
      }
    },
    {
      "cell_type": "code",
      "source": [
        "from pyro.dynamic import system\n",
        "\n",
        "\n",
        "class CustomSys( system.ContinuousDynamicSystem ):\n",
        "    \n",
        "    ############################\n",
        "    def __init__(self):\n",
        "        \n",
        "        # initialize standard 2 state (n=2) dynamic system\n",
        "        system.ContinuousDynamicSystem.__init__( self, n = 2 )\n",
        "        \n",
        "        #######################################\n",
        "        # Your system label bellow:\n",
        "        self.name = 'My custom system'\n",
        "        self.state_label = [ 'State 1' , 'State 2' ]\n",
        "        self.state_units = [ '[]', '[]']\n",
        "        #######################################\n",
        "    \n",
        "    #############################\n",
        "    def f( self , x , u , t ):\n",
        "        \"\"\" \n",
        "        Continuous time foward dynamics evaluation dx = f(x,u,t)\n",
        "        \n",
        "        INPUTS\n",
        "        x  : state vector             n x 1\n",
        "        u  : control inputs vector    m x 1\n",
        "        t  : time                     1 x 1\n",
        "        \n",
        "        OUPUTS\n",
        "        dx : state derivative vector  n x 1\n",
        "        \n",
        "        \"\"\"\n",
        "        \n",
        "        dx = np.zeros(self.n) # State derivative vector\n",
        "        \n",
        "        #######################################\n",
        "        # Your Dynamic Equation bellow:\n",
        "        dx[0] = -x[0] # This is a place holder\n",
        "        dx[1] = -x[1] # This is a place holder\n",
        "        #######################################\n",
        "        \n",
        "        return dx"
      ],
      "metadata": {
        "id": "OJsHl9mXAHZL"
      },
      "execution_count": null,
      "outputs": []
    },
    {
      "cell_type": "markdown",
      "source": [
        "Now you just have to create an instance and call the method!\n",
        "\n"
      ],
      "metadata": {
        "id": "JuPF_q1YA1ZO"
      }
    },
    {
      "cell_type": "code",
      "source": [
        "sys = CustomSys()\n",
        "\n",
        "sys.plot_phase_plane()"
      ],
      "metadata": {
        "id": "bSQuEj8NA4h9"
      },
      "execution_count": null,
      "outputs": []
    },
    {
      "cell_type": "markdown",
      "source": [
        "You can use the previous code as a template for analysing a system you have the dynamic equations."
      ],
      "metadata": {
        "id": "WHSpKn3SOvZx"
      }
    },
    {
      "cell_type": "markdown",
      "source": [
        "# Adding a Feedback controller\n",
        "\n",
        "Now lets discuss what happen to the phase plane when we add feedback.\n",
        "\n",
        "First, starting from an open-loop system with equations:\n",
        "\n",
        "$\\dot{x} = f(x,u)$\n",
        "\n",
        "If we close the loop with a control law:\n",
        "\n",
        "$u = c(x)$\n",
        "\n",
        "We can find a new dynamic that depends only on the states:\n",
        "\n",
        "$\\dot{x} = f(x,u) = f(x, c(x))  = f_{cl}(x)$\n",
        "\n",
        "We will call $f_{cl}$ the \"Closed-loop\" dynamic. We can apply the same phase-plane analysis on this new function to analyze the new behavior when a controller is active."
      ],
      "metadata": {
        "id": "BNbQ0OBV2OtR"
      }
    },
    {
      "cell_type": "markdown",
      "source": [
        "## Exemple"
      ],
      "metadata": {
        "id": "A4UHhagnGDyw"
      }
    },
    {
      "cell_type": "markdown",
      "source": [
        "Lets use the floating mass with no damping again as the exemple:"
      ],
      "metadata": {
        "id": "v_2pnb1YB-u8"
      }
    },
    {
      "cell_type": "code",
      "source": [
        "m = 1\n",
        "b = 0\n",
        "sys = massspringdamper.FloatingSingleMass( m , b )"
      ],
      "metadata": {
        "id": "6rlAJtDPCEQz"
      },
      "execution_count": null,
      "outputs": []
    },
    {
      "cell_type": "markdown",
      "source": [
        "This set the output equation to $y = \\begin{bmatrix} q \\\\ \\dot{q} \\end{bmatrix}$ (full state feedback), because the defaut output equation was only the position $q$."
      ],
      "metadata": {
        "id": "KX1SdxUZC__B"
      }
    },
    {
      "cell_type": "code",
      "source": [
        "sys.p = 2\n",
        "sys.C = np.diag([1,1])\n",
        "sys.cost_function = None     # This avoid a bug that I need to fix!"
      ],
      "metadata": {
        "id": "qkchd2_XCKHY"
      },
      "execution_count": null,
      "outputs": []
    },
    {
      "cell_type": "markdown",
      "source": [
        "Now we will try a controller that implement a linear feedback law of the form:\n",
        "\n",
        "$u = K ( r - y )$\n",
        "\n",
        "where $K$ is a $1 \\times 2 $ matrix of gains, $u$ is the force input that the controller will apply, $r$ is the reference (a desired state vector) and $y$ is the actual measured state vector."
      ],
      "metadata": {
        "id": "M_Ugx-J8DuAg"
      }
    },
    {
      "cell_type": "code",
      "source": [
        "from pyro.control import linear\n",
        "\n",
        "ctl = linear.ProportionalController( m = 1 , p = 2)"
      ],
      "metadata": {
        "id": "etSSb7MS-Gde"
      },
      "execution_count": null,
      "outputs": []
    },
    {
      "cell_type": "markdown",
      "source": [
        "Next we can set feedback gains in the matrix, and a default constant reference signal:"
      ],
      "metadata": {
        "id": "Tq0nyuaDE58g"
      }
    },
    {
      "cell_type": "code",
      "source": [
        "ctl.K[0,0] = 1.0\n",
        "ctl.K[0,1] = 0.0\n",
        "print( 'Controller gain matrix K =', ctl.K )\n",
        "ctl.rbar[0] = 0\n",
        "print( 'r =', ctl.rbar )"
      ],
      "metadata": {
        "id": "3bIfEsz5EtDq"
      },
      "execution_count": null,
      "outputs": []
    },
    {
      "cell_type": "markdown",
      "source": [
        "Then we create a new dynamic system object that represent the closed-loop behavior of the original system with the controller. This function basically compute $\\dot{x} = f(x,u) = f(x, c(x))  = f_{cl}(x)$"
      ],
      "metadata": {
        "id": "DlQO5dVqFlol"
      }
    },
    {
      "cell_type": "code",
      "source": [
        "cl_sys = ctl + sys"
      ],
      "metadata": {
        "id": "y_QbCgdMFxzI"
      },
      "execution_count": null,
      "outputs": []
    },
    {
      "cell_type": "markdown",
      "source": [
        "This new \"closed-loop\" object instance can now be used like a regular dynamic system object, all the tools demonstrated in the previous section of the tutorial are available."
      ],
      "metadata": {
        "id": "ZW_3IYI1GdbS"
      }
    },
    {
      "cell_type": "markdown",
      "source": [
        "This illustrate the closed-loop behavior with a phase plane we can call the same method to illustrate now $f_{cl}$"
      ],
      "metadata": {
        "id": "n0as4tyiHXfp"
      }
    },
    {
      "cell_type": "code",
      "source": [
        "cl_sys.plot_phase_plane()"
      ],
      "metadata": {
        "id": "eiuwvHi1HWQo"
      },
      "execution_count": null,
      "outputs": []
    },
    {
      "cell_type": "markdown",
      "source": [
        "This behavior is caracteristic of undamped oscillations, hence this control law would need to be modified for a adequate closed-loop behavior."
      ],
      "metadata": {
        "id": "SmlWKxQvIqcY"
      }
    },
    {
      "cell_type": "markdown",
      "source": [
        "# How does the control law gains affect the phase plane?"
      ],
      "metadata": {
        "id": "qBBN0KkqHiuD"
      }
    },
    {
      "cell_type": "markdown",
      "source": [
        "First lets try only a gain on the velocity:"
      ],
      "metadata": {
        "id": "4eFt34e-Iks3"
      }
    },
    {
      "cell_type": "code",
      "source": [
        "ctl.K[0,0]  = 0.0\n",
        "ctl.K[0,1]  = 1.0\n",
        "ctl.rbar[0] = 0\n",
        "cl_sys.plot_phase_plane()"
      ],
      "metadata": {
        "id": "ieIanA3OHn0a"
      },
      "execution_count": null,
      "outputs": []
    },
    {
      "cell_type": "markdown",
      "source": [
        "This would lead to bring the mass to rest but not on a desired position."
      ],
      "metadata": {
        "id": "2EQ-Lwy-JBBh"
      }
    },
    {
      "cell_type": "markdown",
      "source": [
        "Only a gain on the position:"
      ],
      "metadata": {
        "id": "OEMeY150P4W3"
      }
    },
    {
      "cell_type": "code",
      "source": [
        "ctl.K[0,0]  = 1.0\n",
        "ctl.K[0,1]  = 0.0\n",
        "ctl.rbar[0] = 0\n",
        "cl_sys.plot_phase_plane()"
      ],
      "metadata": {
        "id": "YluQd2u1P5Gi"
      },
      "execution_count": null,
      "outputs": []
    },
    {
      "cell_type": "markdown",
      "source": [
        "This would lead to oscillations arround the desired position."
      ],
      "metadata": {
        "id": "u2a9bXK5P-t6"
      }
    },
    {
      "cell_type": "markdown",
      "source": [
        "Lets try gains on both the position and the velocity:"
      ],
      "metadata": {
        "id": "bLtZZuBEI6oT"
      }
    },
    {
      "cell_type": "code",
      "source": [
        "ctl.K[0,0]  = 1.0\n",
        "ctl.K[0,1]  = 0.7\n",
        "ctl.rbar[0] = 0\n",
        "cl_sys.plot_phase_plane()"
      ],
      "metadata": {
        "id": "p_gFArB-I6wd"
      },
      "execution_count": null,
      "outputs": []
    },
    {
      "cell_type": "markdown",
      "source": [
        "This is more adequate, all trajectories converge on the desired state at [0,0]."
      ],
      "metadata": {
        "id": "hOPkiFxmJQtq"
      }
    },
    {
      "cell_type": "markdown",
      "source": [
        "Note that changing the reference $r$ in the control law will offset the vector field:"
      ],
      "metadata": {
        "id": "Zt7cFaFNJZUv"
      }
    },
    {
      "cell_type": "code",
      "source": [
        "ctl.K[0,0]  = 1.0\n",
        "ctl.K[0,1]  = 0.7\n",
        "ctl.rbar[0] = 2.0           # New reference position\n",
        "cl_sys.plot_phase_plane()"
      ],
      "metadata": {
        "id": "EfKTbDO4Jhw2"
      },
      "execution_count": null,
      "outputs": []
    },
    {
      "cell_type": "markdown",
      "source": [
        "Let simulate a specific trajectory for this closed-loop system."
      ],
      "metadata": {
        "id": "huiIgz1gJ3mP"
      }
    },
    {
      "cell_type": "code",
      "source": [
        "cl_sys.x0 = np.array([0,5])\n",
        "cl_sys.compute_trajectory( tf = 10 )\n",
        "cl_sys.plot_phase_plane_trajectory()"
      ],
      "metadata": {
        "id": "1sLXIpgrG0u7"
      },
      "execution_count": null,
      "outputs": []
    },
    {
      "cell_type": "markdown",
      "source": [
        "and show an animation:"
      ],
      "metadata": {
        "id": "8rgwLQdlHG0a"
      }
    },
    {
      "cell_type": "code",
      "source": [
        "# This would work locally in a python console\n",
        "#cl_sys.animate_simulation()\n",
        "\n",
        "# This is the way for showing an animation on colab (we need to generate html)\n",
        "ani  = cl_sys.generate_simulation_html_video()\n",
        "html = display.HTML( ani )\n",
        "display.display(html)"
      ],
      "metadata": {
        "id": "R4RbzBnY-fsn"
      },
      "execution_count": null,
      "outputs": []
    },
    {
      "cell_type": "markdown",
      "source": [
        "# The End\n",
        "\n",
        "I would recommend playing with parameters in all the previous interactive code blocks to make sure you understand how each parameter affect the behavior and the phase plane plots."
      ],
      "metadata": {
        "id": "eCbhjPH4KE5K"
      }
    }
  ]
}